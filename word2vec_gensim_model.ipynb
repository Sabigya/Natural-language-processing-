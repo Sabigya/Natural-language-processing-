{
 "cells": [
  {
   "cell_type": "code",
   "execution_count": 11,
   "id": "31f0c62c-a32e-4dcf-8563-bb032bc0f705",
   "metadata": {},
   "outputs": [],
   "source": [
    "import nltk\n",
    "from nltk.corpus import stopwords\n",
    "from nltk.tokenize import word_tokenize\n",
    "from gensim.models import Word2Vec, KeyedVectors"
   ]
  },
  {
   "cell_type": "code",
   "execution_count": null,
   "id": "058ce7ad-3a5a-4bfa-acb4-fbb4991e0147",
   "metadata": {},
   "outputs": [],
   "source": [
    "sentences = [\n",
    "    \"The quick brown fox jumps over the lazy dog.\",\n",
    "    \"Artificial intelligence is transforming the world we live in.\",\n",
    "    \"Deep learning techniques have greatly improved image recognition.\",\n",
    "    \"Natural language processing allows computers to understand human language.\",\n",
    "    \"Data science combines statistics, computer science, and domain knowledge.\",\n",
    "    \"The weather is nice today, perfect for a walk in the park.\",\n",
    "    \"Cats are often seen as independent and curious creatures.\",\n",
    "    \"The stock market fluctuates based on various economic indicators.\",\n",
    "    \"Exploring new cuisines can be an exciting culinary adventure.\",\n",
    "    \"Machine learning algorithms can learn from data and make predictions.\",\n",
    "]"
   ]
  },
  {
   "cell_type": "code",
   "execution_count": 7,
   "id": "bb909f80-2338-4389-9756-1305ff69ab94",
   "metadata": {},
   "outputs": [],
   "source": [
    "stop_words = set(stopwords.words('english'))\n",
    "def preprocess_text(text): \n",
    "    stop_words = set(stopwords.words('english'))\n",
    "    tokens  = word_tokenize(text.lower())\n",
    "    tokens = [token for token in tokens if token not in stop_words and token.isalpha()]\n",
    "    return tokens"
   ]
  },
  {
   "cell_type": "code",
   "execution_count": 8,
   "id": "87703dc8-802c-4137-bc40-1d43966a9a5e",
   "metadata": {},
   "outputs": [],
   "source": [
    "preprocessed_sentences = [preprocess_text(sentence) for sentence in sentences]"
   ]
  },
  {
   "cell_type": "code",
   "execution_count": 9,
   "id": "a9377e60-3459-4014-8516-b80aab11661b",
   "metadata": {},
   "outputs": [
    {
     "data": {
      "text/plain": [
       "[['quick', 'brown', 'fox', 'jumps', 'lazy', 'dog'],\n",
       " ['artificial', 'intelligence', 'transforming', 'world', 'live'],\n",
       " ['deep',\n",
       "  'learning',\n",
       "  'techniques',\n",
       "  'greatly',\n",
       "  'improved',\n",
       "  'image',\n",
       "  'recognition'],\n",
       " ['natural',\n",
       "  'language',\n",
       "  'processing',\n",
       "  'allows',\n",
       "  'computers',\n",
       "  'understand',\n",
       "  'human',\n",
       "  'language'],\n",
       " ['data',\n",
       "  'science',\n",
       "  'combines',\n",
       "  'statistics',\n",
       "  'computer',\n",
       "  'science',\n",
       "  'domain',\n",
       "  'knowledge'],\n",
       " ['weather', 'nice', 'today', 'perfect', 'walk', 'park'],\n",
       " ['cats', 'often', 'seen', 'independent', 'curious', 'creatures'],\n",
       " ['stock',\n",
       "  'market',\n",
       "  'fluctuates',\n",
       "  'based',\n",
       "  'various',\n",
       "  'economic',\n",
       "  'indicators'],\n",
       " ['exploring', 'new', 'cuisines', 'exciting', 'culinary', 'adventure'],\n",
       " ['machine', 'learning', 'algorithms', 'learn', 'data', 'make', 'predictions']]"
      ]
     },
     "execution_count": 9,
     "metadata": {},
     "output_type": "execute_result"
    }
   ],
   "source": [
    "preprocessed_sentences"
   ]
  },
  {
   "cell_type": "code",
   "execution_count": 12,
   "id": "07d5507f-029e-4a57-8547-ca14148b1794",
   "metadata": {},
   "outputs": [],
   "source": [
    "model = Word2Vec(sentences=preprocessed_sentences, vector_size=100, window=5, min_count=1, workers=4, sg=1)"
   ]
  },
  {
   "cell_type": "markdown",
   "id": "02b193e3-8b47-4775-8c48-c93f7aa03b48",
   "metadata": {},
   "source": [
    "<!-- vector_size=100\n",
    "Description: This sets the number of dimensions (features) of the word vectors.\n",
    "\n",
    "Default: 100\n",
    "\n",
    "Higher values: More expressive vectors but require more training data and time.\n",
    "\n",
    "Lower values: Less detailed, but faster to train and require less memory.\n",
    "\n",
    "3. window=5\n",
    "Description: The maximum distance between the current word and the predicted context words.\n",
    "\n",
    "Example: If the window is 5, then the model considers up to 5 words to the left and right of the target word.\n",
    "\n",
    "4. min_count=1\n",
    "Description: Ignores all words with total frequency lower than this.\n",
    "\n",
    "Use case: If set to 1, all words are included (even rare ones).\n",
    "\n",
    "Higher value: Removes infrequent words (helps reduce noise and memory use).\n",
    "\n",
    "5. workers=4\n",
    "Description: Number of worker threads to train the model (parallel training).\n",
    "\n",
    "More workers: Faster training on multi-core systems.\n",
    "\n",
    "Recommended: Set this to the number of cores in your CPU for better performance.\n",
    "\n",
    "6. sg=1\n",
    "Description: Defines the training algorithm.\n",
    "\n",
    "sg=0: CBOW (Continuous Bag of Words)\n",
    "\n",
    "sg=1: Skip-gram\n",
    "\n",
    "Skip-gram (sg=1) is better for infrequent words.\n",
    "\n",
    "CBOW (sg=0) is faster and works well for frequent words. -->"
   ]
  },
  {
   "cell_type": "code",
   "execution_count": 13,
   "id": "23afa0ab-e63b-4fb7-bf2a-28be035ccbe7",
   "metadata": {},
   "outputs": [
    {
     "name": "stdout",
     "output_type": "stream",
     "text": [
      "similarity between them : 0.11011417955160141\n"
     ]
    }
   ],
   "source": [
    "try: \n",
    "    similarity_new_cuisines = model.wv.similarity(\"new\", \"cuisines\")\n",
    "    print(f\"similarity between them : {similarity_new_cuisines}\")\n",
    "except KeyError as e:\n",
    "    print(f\"key error :{e}\")\n",
    "    \n",
    "    "
   ]
  },
  {
   "cell_type": "code",
   "execution_count": 27,
   "id": "5b6c7eaa-dbaa-4f7b-8efe-c24fc955a610",
   "metadata": {},
   "outputs": [
    {
     "data": {
      "text/plain": [
       "[('combines', 0.31906330585479736),\n",
       " ('fox', 0.1888551265001297),\n",
       " ('recognition', 0.16205263137817383),\n",
       " ('park', 0.14646083116531372),\n",
       " ('dog', 0.1276959627866745),\n",
       " ('learn', 0.12720921635627747),\n",
       " ('independent', 0.12247155606746674),\n",
       " ('adventure', 0.12195171415805817),\n",
       " ('statistics', 0.11074147373437881),\n",
       " ('lazy', 0.110305555164814)]"
      ]
     },
     "execution_count": 27,
     "metadata": {},
     "output_type": "execute_result"
    }
   ],
   "source": [
    "model.wv.most_similar('deep')\n"
   ]
  },
  {
   "cell_type": "code",
   "execution_count": 29,
   "id": "cf92dfed-7bfe-47d0-ba29-14e253e6a460",
   "metadata": {},
   "outputs": [
    {
     "data": {
      "text/plain": [
       "array([ 5.6267120e-03,  5.4973708e-03,  1.8291199e-03,  5.7494068e-03,\n",
       "       -8.9680776e-03,  6.5593575e-03,  9.2259916e-03, -4.2071473e-03,\n",
       "        1.6075504e-03, -5.2338815e-03,  1.0582185e-03,  2.7701687e-03,\n",
       "        8.1607364e-03,  5.4401276e-04,  2.5570584e-03,  1.2977350e-03,\n",
       "        8.4025227e-03, -5.7077026e-03, -6.2618302e-03, -3.6275184e-03,\n",
       "       -2.3005498e-03,  5.0410628e-03, -8.1203571e-03, -2.8335357e-03,\n",
       "       -8.1974268e-03,  5.1497100e-03, -2.5680638e-03, -9.0671070e-03,\n",
       "        4.0717293e-03,  9.0173231e-03, -3.0376601e-03, -5.8385395e-03,\n",
       "        3.0198884e-03, -4.3584823e-04, -9.9794362e-03,  8.4177041e-03,\n",
       "       -7.3388875e-03, -4.9304068e-03, -2.6570810e-03, -5.4523144e-03,\n",
       "        1.7165100e-03,  9.7128144e-03,  4.5722723e-03,  8.0886027e-03,\n",
       "       -4.7045827e-04,  6.4492342e-04, -2.6683521e-03, -8.7795611e-03,\n",
       "        3.4313034e-03,  2.0933736e-03, -9.4218543e-03, -4.9684369e-03,\n",
       "       -9.7340988e-03, -5.7197916e-03,  4.0645422e-03,  8.6428607e-03,\n",
       "        4.1116499e-03,  2.3884643e-03,  8.1447782e-03, -1.1192096e-03,\n",
       "       -1.3977134e-03, -8.7468233e-03, -1.2579202e-04, -2.5675725e-03,\n",
       "        3.8607715e-04,  7.2796619e-03, -7.0414604e-03, -3.9464748e-03,\n",
       "       -6.6646053e-03, -3.5441148e-03, -3.3158315e-03,  2.1371210e-03,\n",
       "        3.3281683e-03, -4.9571870e-03, -4.5462907e-03,  1.1386942e-03,\n",
       "        5.4534827e-03,  5.3736498e-03, -2.9685367e-03, -4.2665256e-03,\n",
       "       -5.6166472e-03, -5.4498314e-04,  1.9463730e-03,  1.5253461e-03,\n",
       "        7.3525296e-03, -2.7333724e-03, -6.5923930e-05, -5.5276332e-03,\n",
       "       -1.1700654e-03, -7.7119637e-03, -9.5932960e-04,  1.3096749e-03,\n",
       "       -8.5947439e-03,  8.7485835e-03, -9.2078662e-03, -9.6246768e-03,\n",
       "       -8.5116243e-03,  7.3132683e-03,  5.4655685e-03,  9.2494618e-03],\n",
       "      dtype=float32)"
      ]
     },
     "execution_count": 29,
     "metadata": {},
     "output_type": "execute_result"
    }
   ],
   "source": [
    "model.wv['deep']\n"
   ]
  }
 ],
 "metadata": {
  "kernelspec": {
   "display_name": "Python 3 (ipykernel)",
   "language": "python",
   "name": "python3"
  },
  "language_info": {
   "codemirror_mode": {
    "name": "ipython",
    "version": 3
   },
   "file_extension": ".py",
   "mimetype": "text/x-python",
   "name": "python",
   "nbconvert_exporter": "python",
   "pygments_lexer": "ipython3",
   "version": "3.9.9"
  }
 },
 "nbformat": 4,
 "nbformat_minor": 5
}
