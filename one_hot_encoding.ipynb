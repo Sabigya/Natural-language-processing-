{
 "cells": [
  {
   "cell_type": "markdown",
   "id": "340526a9-3a5d-4d90-a159-6b73e09f1018",
   "metadata": {},
   "source": [
    "one hot encoding \n",
    "This implements one hot encoding.\n",
    "In real world projects one mostly uses scikit -learn’s implementation of one hot encoding"
   ]
  },
  {
   "cell_type": "code",
   "execution_count": 1,
   "id": "edc5a32a-d6ab-45f2-9514-6269f4057fca",
   "metadata": {},
   "outputs": [
    {
     "data": {
      "text/plain": [
       "['dog bites man ', 'man bites dog ', 'dog eats meat', 'man eats food']"
      ]
     },
     "execution_count": 1,
     "metadata": {},
     "output_type": "execute_result"
    }
   ],
   "source": [
    "document = ['Dog bites man.', 'Man bites dog.', 'Dog eats meat','Man eats food']\n",
    "preprocessed_docs = [doc.lower().replace(\".\",\" \") for doc in document]\n",
    "preprocessed_docs"
   ]
  },
  {
   "cell_type": "code",
   "execution_count": 2,
   "id": "759c9086-7156-4291-bf78-86c2ecef5865",
   "metadata": {},
   "outputs": [
    {
     "name": "stdout",
     "output_type": "stream",
     "text": [
      "{'dog': 1, 'bites': 2, 'man': 3, 'eats': 4, 'meat': 5, 'food': 6}\n"
     ]
    }
   ],
   "source": [
    "vocab ={}\n",
    "count = 0\n",
    "for doc in preprocessed_docs: \n",
    "    for word in doc.split(): \n",
    "        if word not in vocab: \n",
    "            count = count+1\n",
    "            vocab[word] = count\n",
    "\n",
    "print(vocab)"
   ]
  },
  {
   "cell_type": "code",
   "execution_count": 19,
   "id": "aa42d611-0309-4b45-9a04-bca0596c422b",
   "metadata": {},
   "outputs": [],
   "source": [
    "#Get one hot representation for any string based on this vocabulary. \n",
    "#If the word exists in the vocabulary, its representation is returned. \n",
    "#If not, a list of zeroes is returned for that word. \n",
    "\n",
    "def get_onehot_vector(somestring): \n",
    "    one_hot_encoded = []\n",
    "    for word in somestring.split(): \n",
    "        temp = [0]*len(vocab)\n",
    "        if word in vocab: \n",
    "            temp[vocab[word]-1]= 1\n",
    "        one_hot_encoded.append(temp)\n",
    "    return one_hot_encoded"
   ]
  },
  {
   "cell_type": "code",
   "execution_count": 20,
   "id": "e0519efa-e66b-4d64-b198-b1db264534eb",
   "metadata": {},
   "outputs": [
    {
     "name": "stdout",
     "output_type": "stream",
     "text": [
      "man bites dog \n"
     ]
    },
    {
     "data": {
      "text/plain": [
       "[[0, 0, 1, 0, 0, 0], [0, 1, 0, 0, 0, 0], [1, 0, 0, 0, 0, 0]]"
      ]
     },
     "execution_count": 20,
     "metadata": {},
     "output_type": "execute_result"
    }
   ],
   "source": [
    "print(preprocessed_docs[1])\n",
    "get_onehot_vector(preprocessed_docs[1]) #one hot representation for a text from our corpus."
   ]
  },
  {
   "cell_type": "code",
   "execution_count": 21,
   "id": "af186716-bd3d-4268-8058-2fe2ef20463b",
   "metadata": {},
   "outputs": [
    {
     "data": {
      "text/plain": [
       "[[0, 0, 1, 0, 0, 0],\n",
       " [0, 0, 0, 0, 0, 0],\n",
       " [1, 0, 0, 0, 0, 0],\n",
       " [0, 0, 0, 0, 0, 0],\n",
       " [0, 0, 0, 0, 0, 0]]"
      ]
     },
     "execution_count": 21,
     "metadata": {},
     "output_type": "execute_result"
    }
   ],
   "source": [
    "get_onehot_vector(\"man and dog are good\") "
   ]
  },
  {
   "cell_type": "markdown",
   "id": "e43ba807-bc28-4869-90b4-8a1af172c417",
   "metadata": {},
   "source": [
    "one hot encoding using the sklearn "
   ]
  },
  {
   "cell_type": "code",
   "execution_count": 28,
   "id": "4764292a-853d-4e5c-b7b1-97e56c5f48f6",
   "metadata": {},
   "outputs": [],
   "source": [
    "from sklearn.preprocessing import LabelEncoder, OneHotEncoder\n",
    "\n",
    "S1 = 'dog bites man'\n",
    "S2 = 'man bites dog'\n",
    "S3 = 'dog eats meat'\n",
    "S4 = 'man eats food'\n"
   ]
  },
  {
   "cell_type": "code",
   "execution_count": 23,
   "id": "253ce2c5-410d-4e5b-abf0-c55f74c14239",
   "metadata": {},
   "outputs": [],
   "source": [
    "data = [S1.split(), S2.split(), S3.split(), S4.split()]"
   ]
  },
  {
   "cell_type": "code",
   "execution_count": 25,
   "id": "66b9e082-3b0c-43fd-92fb-26f299597eab",
   "metadata": {},
   "outputs": [],
   "source": [
    "values = data[0] + data[1] +data[2]"
   ]
  },
  {
   "cell_type": "code",
   "execution_count": 26,
   "id": "7ead64a2-3299-42aa-b3ba-a3d2f242c981",
   "metadata": {},
   "outputs": [
    {
     "data": {
      "text/plain": [
       "['dog', 'bites', 'man', 'man', 'bites', 'dog', 'dog', 'eats', 'meat']"
      ]
     },
     "execution_count": 26,
     "metadata": {},
     "output_type": "execute_result"
    }
   ],
   "source": [
    "values"
   ]
  },
  {
   "cell_type": "code",
   "execution_count": 29,
   "id": "dbb7102c-4d1c-4795-bdee-708382ed8c1a",
   "metadata": {},
   "outputs": [
    {
     "name": "stdout",
     "output_type": "stream",
     "text": [
      "Label Encoded: [1 0 3 3 0 1 1 2 4]\n"
     ]
    }
   ],
   "source": [
    "label_encoder = LabelEncoder()\n",
    "integer_encoded = label_encoder.fit_transform(values)\n",
    "print(\"Label Encoded:\",integer_encoded)\n"
   ]
  },
  {
   "cell_type": "code",
   "execution_count": 30,
   "id": "6a850deb-fe43-4af3-b514-5563fce3eb8e",
   "metadata": {},
   "outputs": [
    {
     "name": "stdout",
     "output_type": "stream",
     "text": [
      "Onehot Encoded Matrix:\n",
      " [[1. 0. 1. 0. 0. 0. 1. 0.]\n",
      " [0. 1. 1. 0. 1. 0. 0. 0.]\n",
      " [1. 0. 0. 1. 0. 0. 0. 1.]\n",
      " [0. 1. 0. 1. 0. 1. 0. 0.]]\n"
     ]
    }
   ],
   "source": [
    "#One-Hot Encoding\n",
    "onehot_encoder = OneHotEncoder()\n",
    "onehot_encoded = onehot_encoder.fit_transform(data).toarray()\n",
    "print(\"Onehot Encoded Matrix:\\n\",onehot_encoded)"
   ]
  },
  {
   "cell_type": "markdown",
   "id": "b1b87b03-6d4c-4c17-9b89-56f7f14322f6",
   "metadata": {},
   "source": [
    "one hot encoding"
   ]
  },
  {
   "cell_type": "code",
   "execution_count": 33,
   "id": "d0b3addc-8ce0-4e2f-aebc-1b0131b2d1c4",
   "metadata": {},
   "outputs": [],
   "source": [
    "\n",
    "s1 = 'dog bites man'\n",
    "s2 = 'man bites dog'\n",
    "s3 = 'dog eats meat'\n",
    "s4 = 'man eats food'\n"
   ]
  },
  {
   "cell_type": "code",
   "execution_count": 45,
   "id": "866043b7-7bab-4c34-956b-fce42cd2cc0c",
   "metadata": {},
   "outputs": [
    {
     "data": {
      "text/plain": [
       "['dog bites man', 'man bites dog', 'dog eats meat', 'man eats food']"
      ]
     },
     "execution_count": 45,
     "metadata": {},
     "output_type": "execute_result"
    }
   ],
   "source": [
    "docs = ['dog bites man' , 'man bites dog','dog eats meat' ,'man eats food']\n",
    "docs"
   ]
  },
  {
   "cell_type": "code",
   "execution_count": 48,
   "id": "1851048d-e4b9-4971-bff3-76bce838fcb9",
   "metadata": {},
   "outputs": [
    {
     "name": "stdout",
     "output_type": "stream",
     "text": [
      "{'dog': 1, 'bites': 2, 'man': 3, 'eats': 4, 'meat': 5, 'food': 6}\n"
     ]
    }
   ],
   "source": [
    "vocab ={}\n",
    "count = 0;\n",
    "for doc in docs: \n",
    "    for word in doc.split(): \n",
    "        if word not in vocab: \n",
    "            count = count+1\n",
    "            vocab[word] = count\n",
    "\n",
    "print(vocab)"
   ]
  },
  {
   "cell_type": "code",
   "execution_count": 59,
   "id": "9e971ae2-444a-4a16-abab-ecb3c72dc8e9",
   "metadata": {},
   "outputs": [],
   "source": [
    "def one_hot_encoding(docs):\n",
    "    one_hot_encoded = []\n",
    "    temp = [0] * len(vocab)\n",
    "    for word in docs.split():\n",
    "        temp = [0] * len(vocab)\n",
    "        if word in vocab:\n",
    "            temp[vocab[word]-1]=1\n",
    "        one_hot_encoded.append(temp)\n",
    "\n",
    "    return one_hot_encoded\n",
    "  "
   ]
  },
  {
   "cell_type": "code",
   "execution_count": 60,
   "id": "4aec29f4-4b5e-43d3-a81a-6fb685270a3d",
   "metadata": {},
   "outputs": [
    {
     "data": {
      "text/plain": [
       "[[0, 0, 1, 0, 0, 0],\n",
       " [0, 0, 0, 0, 0, 0],\n",
       " [1, 0, 0, 0, 0, 0],\n",
       " [0, 0, 0, 0, 0, 0],\n",
       " [0, 0, 0, 0, 0, 0]]"
      ]
     },
     "execution_count": 60,
     "metadata": {},
     "output_type": "execute_result"
    }
   ],
   "source": [
    "one_hot_encoding(\"man and dog are good\")"
   ]
  }
 ],
 "metadata": {
  "kernelspec": {
   "display_name": "Python 3 (ipykernel)",
   "language": "python",
   "name": "python3"
  },
  "language_info": {
   "codemirror_mode": {
    "name": "ipython",
    "version": 3
   },
   "file_extension": ".py",
   "mimetype": "text/x-python",
   "name": "python",
   "nbconvert_exporter": "python",
   "pygments_lexer": "ipython3",
   "version": "3.9.9"
  }
 },
 "nbformat": 4,
 "nbformat_minor": 5
}
