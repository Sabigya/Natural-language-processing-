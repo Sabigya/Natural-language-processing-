{
 "cells": [
  {
   "cell_type": "code",
   "execution_count": 10,
   "id": "9c85c4f1-77ed-4955-b499-eb19aebab6f2",
   "metadata": {},
   "outputs": [],
   "source": [
    "from bs4 import BeautifulSoup\n",
    "from urllib.request import urlopen, Request\n",
    "from pprint import pprint"
   ]
  },
  {
   "cell_type": "code",
   "execution_count": 19,
   "id": "dcf9b754-67b3-4826-b509-1ac4ecc0aecf",
   "metadata": {},
   "outputs": [],
   "source": [
    "myurl = \"https://stackoverflow.com/questions/642154/how-do-i-convert-all-strings-in-a-list-of-lists-to-integers\"\n",
    "req = Request(myurl, headers={'User-Agent': 'Mozilla/5.0'})\n",
    "\n",
    "html = urlopen(req).read()\n",
    "soup = BeautifulSoup( html , \"html.parser\")"
   ]
  },
  {
   "cell_type": "code",
   "execution_count": 20,
   "id": "fbe3438d-922d-42c0-a6b0-1048495e5444",
   "metadata": {},
   "outputs": [
    {
     "name": "stdout",
     "output_type": "stream",
     "text": [
      "('<!DOCTYPE html>\\n'\n",
      " '<html class=\"html__responsive \" itemscope=\"\" '\n",
      " 'itemtype=\"https://schema.org/QAPage\" lang=\"en\">\\n'\n",
      " ' <head>\\n'\n",
      " '  <title>\\n'\n",
      " '   python - How do I convert all strings in a list of lists to integers? - '\n",
      " 'Stack Overflow\\n'\n",
      " '  </title>\\n'\n",
      " '  <link '\n",
      " 'href=\"https://cdn.sstatic.net/Sites/stackoverflow/Img/favicon.ico?v=ec617d715196\" '\n",
      " 'rel=\"shortcut icon\"/>\\n'\n",
      " '  <link '\n",
      " 'href=\"https://cdn.sstatic.net/Sites/stackoverflow/Img/apple-touch-icon.png?v=c78bd457575a\" '\n",
      " 'rel=\"apple-touch-icon\"/>\\n'\n",
      " '  <link '\n",
      " 'href=\"https://cdn.sstatic.net/Sites/stackoverflow/Img/apple-touch-icon.png?v=c78bd457575a\" '\n",
      " 'rel=\"image_src\"/>\\n'\n",
      " '  <link href=\"/opensearch.xml\" rel=\"search\" title=\"Stack Overflow\" '\n",
      " 'type=\"application/opensearchdescription+xml\"/>\\n'\n",
      " '  <link '\n",
      " 'href=\"https://stackoverflow.com/questions/642154/how-do-i-convert-all-strings-in-a-list-of-lists-to-integers\" '\n",
      " 'rel=\"canonical\">\\n'\n",
      " '   <meta content=\"width=device-width, height=device-height, '\n",
      " 'initial-scale=1.0, minimum-scale=1.0\" name=\"viewport\"/>\\n'\n",
      " '   <meta content=\"website\" property=\"og:type\">\\n'\n",
      " '    <meta '\n",
      " 'content=\"https://stackoverflow.com/questions/642154/how-do-i-convert-all-strings-in-a-list-of-lists-to-integers\" '\n",
      " 'property=\"og:url\"/>\\n'\n",
      " '    <meta content=\"Stack Overflow\" property=\"og:site_name\"/>\\n'\n",
      " '    <meta '\n",
      " 'content=\"https://cdn.sstatic.net/Sites/stackoverflow/Img/apple-touch-icon@2.png?v=73d79a89bded\" '\n",
      " 'itemprop=\"image primaryImageOfPage\" property=\"og:image\"/>\\n'\n",
      " '    <meta content=\"summary\" name=\"twitter:card\"/>\\n'\n",
      " '    <meta content=\"stackoverflow.com\" name=\"twitter:domain\"/>\\n'\n",
      " '    <meta content=\"How do I convert all strings in a list of lists to '\n",
      " 'integers?\" itemprop=\"name\" name=\"twitter:title\" property=\"og:title\"/>\\n'\n",
      " '    <meta content=\"I have a tuple of tuples containing strings:\\n'\n",
      " \"T1 = (('13', '17', '18', '21', '32'),\\n\"\n",
      " \"      ('07', '11', '13', '14', '28'),\\n\"\n",
      " \"      ('01', '05', '06', '08', '15', '16'))\\n\"\n",
      " '\\n'\n",
      " 'I want to convert all the string \" itemprop=\"description\" '\n",
      " 'name=\"twitter:description\" property=\"og:description\"/>\\n'\n",
      " '    <script id=\"webpack-public-path\" type=\"text/uri-list\">\\n'\n",
      " '     https://cdn.sstatic.net/\\n')\n"
     ]
    }
   ],
   "source": [
    "pprint(soup.prettify()[:2000])"
   ]
  },
  {
   "cell_type": "code",
   "execution_count": 83,
   "id": "557d079b-973c-4b65-a76a-79adc9d425f7",
   "metadata": {},
   "outputs": [
    {
     "name": "stdout",
     "output_type": "stream",
     "text": [
      "question :\n",
      "  How do I convert all strings in a list of lists to integers? [duplicate]\n",
      "best answer : \n",
      "int() is the Python standard built-in function to convert a string into an integer value. You call it with a string containing a number as the argument, and it returns the number converted to an integer:\n",
      ">>> int(\"1\") + 1\n",
      "2\n",
      "\n",
      "If you know the structure of your list, T1 (that it simply contains lists, only one level), you could do this in Python 3:\n",
      "T2 = [list(map(int, x)) for x in T1]\n",
      "\n",
      "In Python 2:\n",
      "T2 = [map(int, x) for x in T1]\n",
      "\n",
      "\n"
     ]
    }
   ],
   "source": [
    "question = soup.find_all(\"a\", class_=\"question-hyperlink\")[0].get_text()\n",
    "print(\"question :\\n \",question)\n",
    "answer = soup.find_all(\"div\", class_= \"answercell post-layout--right\")[0].div.get_text()\n",
    "print(\"best answer :\" , answer)\n"
   ]
  },
  {
   "cell_type": "code",
   "execution_count": 84,
   "id": "4a96b6c8-1645-4390-9f56-5afa58464f1f",
   "metadata": {},
   "outputs": [],
   "source": [
    "#news scraping using the beautiful soup "
   ]
  },
  {
   "cell_type": "code",
   "execution_count": 87,
   "id": "7a30aaf4-0796-4d84-b689-afa0a7c200d5",
   "metadata": {},
   "outputs": [
    {
     "name": "stdout",
     "output_type": "stream",
     "text": [
      "<!DOCTYPE html>\n",
      "<html lang=\"en-US\">\n",
      " <head>\n",
      "  <meta charset=\"utf-8\"/>\n",
      "  <meta content=\"width=device-width, initial-scale=1\" name=\"viewport\"/>\n",
      "  <link href=\"https://gmpg.org/xfn/11\" rel=\"profile\"/>\n",
      "  <link href=\"https://nepaltimes.net/xmlrpc.php\" rel=\"pingback\"/>\n",
      "  <meta content=\"index, follow, max-image-preview:large, max-snippet:-1, max-video-preview:-1\" name=\"robots\"/>\n",
      "  <style>\n",
      "   img:is([sizes=\"auto\" i], [sizes^=\"auto,\" i]) { contain-intrinsic-size: 3000px 1500px }\n",
      "  </style>\n",
      "  <script type=\"5c857d71b47bdae5bf784548-text/javascript\">\n",
      "   var jnews_ajax_url = '/?ajax-request=jnews'\n",
      "  </script>\n",
      "  <script type=\"5c857d71b47bdae5bf784548-text/javascript\">\n",
      "   ;window.jnews=window.jnews||{},window.jnews.library=window.jnews.library||{},window.jnews.library=function(){\"use strict\";var e=this;e.win=window,e.doc=document,e.noop=function(){},e.globalBody=e.doc.getElementsByTagName(\"body\")[0],e.globalBody=e.globalBody?e.globalBody:e.doc,e.win.jnewsDataStorage=e.win.jnewsDataStorage||{_storage:new WeakMap,put:function(e,t,n){this._storage.has(e)||this._storage.set(e,new Map),this._storage.get(e).set(t,n)},get:function(e,t){return this._storage.get(e).get(t)},has:function(e,t){return this._storage.has(e)&&this._storage.get(e).has(t)},remove:function(e,t){var n=this._storage.get(e).delete(t);return 0===!this._storage.get(e).size&&this._storage.delete(e),n}},e.windowWidth=function(){return e.win.innerWidth||e.docEl.clientWidth||e.globalBody.clientWidth},e.windowHeight=function(){return e.win.innerHeight||e.docEl.clientHeight||e.globalBody.clientHeight},e.requestAnimationFrame=e.win.requestAnimationFrame||e.win.webkitRequestAnimationFrame||e.win.mozRequestAnimationFrame||e.win.msRequestAnimationFrame||window.oRequestAnimationFrame||function(e){return setTimeout(e,1e3/60)},e.cancelAnimationFrame=e.win.cancelAnimationFrame||e.win.webkitCancelAnimationFrame||e.win.webkitCancelRequestAnimationFrame||e.win.mozCancelAnimationFrame||e.win.msCancelRequestAnimationFrame||e.win.oCancelRequ\n"
     ]
    }
   ],
   "source": [
    "url = \"https://nepaltimes.net/229125/\" \n",
    "req = Request(url, headers={'User-Agent': 'Mozilla/5.0'})\n",
    "html = urlopen(req).read()\n",
    "soupified = BeautifulSoup(html , \"html.parser\")\n",
    "print(soupified.prettify()[:2000])\n",
    "\n"
   ]
  },
  {
   "cell_type": "code",
   "execution_count": 120,
   "id": "3c09f828-d96d-49e9-ad74-e171d7c918d7",
   "metadata": {},
   "outputs": [
    {
     "name": "stdout",
     "output_type": "stream",
     "text": [
      "बालेनले इखा पुखुलाई लिच्छविकालीन अवस्थामा फर्काउने\n",
      "४ वैशाख , काठमाण्डौ।\n",
      "आफू भक्तपुर सिटीबाट प्रभावित बनेको बताउँने गरेका काठमाडौँ महानगरपालिकाका मेयर बालेन शाहले आफ्नो नगरलाई पनि प्राचिन कला र सम्पदा सम्पन्न बनाउन प्रयासरत रहेका छन् ।\n",
      "यसैक्रममा उनले काठमाडौँ महानगरपालिकाकामा रहेको ऐतिहासिक पोखरी इखा पुखुलाई लिच्छविकालीन अवस्थामा फिर्ता गर्ने कार्य सुरु भएको बताएका छन् ।  ३ करोड ६४ लाख रुपैयाँको लागतमा पुनर्निर्माण भइरहेको यो पोखरीको क्षेत्रफल करिब साढे ७ रोपनी रहेको शाहले उल्लेख गरेका छन् ।\n",
      "जसमध्ये ६ रोपनी क्षेत्र पानीका लागि छुट्टाइएको बताइएको छ । पोखरीको वरिपरि २ मिटर चौडाइको पैदल मार्ग निर्माण गरिने बालेनले उल्लेख गरेका छन् । पोखरीमा आकाशे पानी संकलन प्रणाली पनि बनाइनेछ ।\n",
      "पोखरीको पुनर्निर्माणले जल प्रणाली पुनस्र्थापना गर्ने शाहको विश्वास छ । पानीको स्रोत व्यवस्थापन गर्न लिच्छविकालिन अवस्थामा काठमाडौँको उत्तरी सिरान क्षेत्रपाटीमा यो पोखरी निर्माण गरिएको थियो ।\n",
      "आज सामाजिक संजालमा एक भिडियोसहित उनले यसबारे जानकारी गराएका छन् । जसमा उनले लेखेका छन्, अब हामी तयार छौं — इखा पुखुलाई लिच्छविहरूकालिन इतिहास र गरिमा फिर्ता गर्न ।\n",
      "उनले अगाडि लेखेका छन्, काठमाडौं महानगरपालिकाका वडा नं. १७, १८ र २५ को बीचमा अवस्थित इखा पुखु एउटा ऐतिहासिक पोखरी हो, जसले स्थानीय समुदायसँग गहिरो धार्मिक र सामाजिक सम्बन्ध बोकेको छ ।\n",
      "काठमाडौं महानगरपालिकाभित्र रहेका प्रख्यात हिटीहरू जस्तै मरुहिति, कोहिति, र अन्य ढुंगेधाराहरूसँग पनि इखा पुखुको अन्तरसम्बन्ध रहेको स्थानीय जानकारहरू बताउँछन्।\n",
      "विज्ञहरूका अनुसार, पानीको स्रोत व्यवस्थापन गर्न काठमाडौंको उत्तरी सिरान क्षेत्रपाटीमा यो पोखरी निर्माण गरिएको थियो । कुनै समय क्षेत्रपाटी नै सहरको उत्तरी सिमाना थियो, र त्यसभन्दा पर बस्ती थिएन ।\n",
      "त्यसैले स्थानीय बासिन्दाले पानी जम्मा गर्न इखा पुखु बनाएका थिए र नजिकै इखानारायण मन्दिर स्थापना गरेका थिए । त्यसबेला यो पोखरी काठमाडौंको जमिनमा पानी पुनर्भरणको प्रमुख स्रोतको रूपमा थियो ।\n",
      "तर, विभिन्न कालखण्डमा यो पोखरीको अस्तित्व मेटाउने प्रयासहरू भए । लामो समयको प्रयासपछि काठमाडौं महानगरपालिकाले इखा पुखुको पुनर्निर्माण कार्यलाई अगाडि बढाएको छ ।\n",
      "हालसम्म पोखरीमा थुप्रिएको फोहोर, झार, र २०७२ को भूकम्पपछि भत्किएका घरहरूको अवशेष हटाइएको छ । सुरुमा २ फिट उत्खनन गरिएको थियो, तर पुराना तहहरू भेटिएपछि थप १ फिट गहिरो खनियो ।\n",
      "त्यसपछि मात्र पुरानो कालो माटो भेटिएको थियो । महानगरपालिकाले बाउन्ड्री वाल निर्माणको तयारी पनि पूरा गरेको छ । ३ करोड ६४ लाख रुपैयाँको लागतमा पुनर्निर्माण भइरहेको यो पोखरीको क्षेत्रफल करिब साढे ७ रोपनी छ, जसमध्ये ६ रोपनी क्षेत्र पानीका लागि छुट्याइएको छ ।\n",
      "पोखरीको वरिपरि २ मिटर चौडाइको पैदलमार्ग निर्माण गरिनेछ, जहाँ मानिसहरू हिँड्न, विचार गर्न र पोखरीको शान्त वातावरण महसुस गर्न सक्नेछन्। यो केवल संरचनात्मक पुनर्निर्माण मात्र होइन, यसमा आकाशे पानी संकलन प्रणाली पनि बनाइनेछ ।\n",
      "पोखरीको पुनर्निर्माणले जल प्रणाली (ब्लु ल्याण्डस्केप) को पुनःस्थापना गर्नेछ । यो प्रयास जलचक्र, वातावरण, र सम्पदासँग पुनः सम्बन्ध जोड्ने हाम्रो साझा संकल्प हो । यसबैच आजै काठमाडौं महानगरपालिकाको नगर प्रहरी बलले च्यासल पुलदेखि बालकुमारी पुल क्षेत्रसम्मको कवाडी संकलन केन्द्र हटाएको छ ।\n",
      "महानगर प्रहरी बलका प्रहरी उपरीक्षक दिनेश अर्यालका अनुसार आवास क्षेत्रमा रहेका कवाडी संकलन केन्द्र आज हटाइएको हो ।\n",
      "‘पटक पटक सूचना दिँदा पनि अटेर गरेपछि आज डोजर चलाइएको हो,’\n",
      "उनले भने ।\n",
      "त्यसका लागि महानगरपालिकाले डोजरसहित दर्जनौं नगर प्रहरी बल परिचालन गरेको छ । डोजर लगाएर भत्काएको विरोधमा कवाडी संकलन केन्द्रका दुई मजदुरहरुले ढुंगामुढा समेत गरेका छन् ।\n",
      "‘ढुंगा लागेर डोजरको सिसा फुटेको छ,’\n",
      "अर्यालले भने । उनका अनुसार डोजरमा ढुंगामुढा गर्ने दुई जनालाई नियन्त्रणमा लिइएको छ ।\n"
     ]
    }
   ],
   "source": [
    "divs = soupified.find_all(\"div\")\n",
    "for div in divs:\n",
    "    if div.h1 in div:\n",
    "      print(div.h1.get_text())\n",
    "print(soupified.find_all(\"div\", class_=\"content-inner\")[0].get_text(separator = \"\\n\", strip = True))\n"
   ]
  }
 ],
 "metadata": {
  "kernelspec": {
   "display_name": "Python 3",
   "language": "python",
   "name": "python3"
  },
  "language_info": {
   "codemirror_mode": {
    "name": "ipython",
    "version": 3
   },
   "file_extension": ".py",
   "mimetype": "text/x-python",
   "name": "python",
   "nbconvert_exporter": "python",
   "pygments_lexer": "ipython3",
   "version": "3.13.3"
  }
 },
 "nbformat": 4,
 "nbformat_minor": 5
}
